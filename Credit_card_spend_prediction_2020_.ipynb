{
 "cells": [
  {
   "cell_type": "code",
   "execution_count": 1,
   "metadata": {},
   "outputs": [],
   "source": [
    "import pandas as pd\n",
    "import numpy as np\n",
    "\n",
    "\n",
    "import matplotlib.pyplot as plt\n",
    "import seaborn as sns\n",
    "\n",
    "import scipy.stats as stats\n",
    "import sklearn as sk\n",
    "import statsmodels as sm \n",
    "\n",
    "%matplotlib inline\n",
    "plt.rcParams['figure.figsize']=10,8\n",
    "plt.rcParams['axes.grid'] = True\n",
    "\n",
    "import statsmodels.formula.api as smf\n",
    "from sklearn.model_selection import train_test_split\n",
    "from sklearn.linear_model import LinearRegression\n",
    "from sklearn.metrics import mean_absolute_error, mean_squared_error, r2_score\n"
   ]
  },
  {
   "cell_type": "code",
   "execution_count": 2,
   "metadata": {},
   "outputs": [],
   "source": [
    "credit = pd.read_excel('C:/Users/tejan/Desktop/Data Analystics/class work/Case Study/1. Predicting Credit Card Spend & Identifying Key Drivers/Data Set.xlsx')\n"
   ]
  },
  {
   "cell_type": "code",
   "execution_count": null,
   "metadata": {},
   "outputs": [],
   "source": []
  },
  {
   "cell_type": "code",
   "execution_count": 3,
   "metadata": {},
   "outputs": [
    {
     "data": {
      "text/html": [
       "<div>\n",
       "<style scoped>\n",
       "    .dataframe tbody tr th:only-of-type {\n",
       "        vertical-align: middle;\n",
       "    }\n",
       "\n",
       "    .dataframe tbody tr th {\n",
       "        vertical-align: top;\n",
       "    }\n",
       "\n",
       "    .dataframe thead th {\n",
       "        text-align: right;\n",
       "    }\n",
       "</style>\n",
       "<table border=\"1\" class=\"dataframe\">\n",
       "  <thead>\n",
       "    <tr style=\"text-align: right;\">\n",
       "      <th></th>\n",
       "      <th>custid</th>\n",
       "      <th>region</th>\n",
       "      <th>townsize</th>\n",
       "      <th>gender</th>\n",
       "      <th>age</th>\n",
       "      <th>agecat</th>\n",
       "      <th>birthmonth</th>\n",
       "      <th>ed</th>\n",
       "      <th>edcat</th>\n",
       "      <th>jobcat</th>\n",
       "      <th>...</th>\n",
       "      <th>owncd</th>\n",
       "      <th>ownpda</th>\n",
       "      <th>ownpc</th>\n",
       "      <th>ownipod</th>\n",
       "      <th>owngame</th>\n",
       "      <th>ownfax</th>\n",
       "      <th>news</th>\n",
       "      <th>response_01</th>\n",
       "      <th>response_02</th>\n",
       "      <th>response_03</th>\n",
       "    </tr>\n",
       "  </thead>\n",
       "  <tbody>\n",
       "    <tr>\n",
       "      <th>0</th>\n",
       "      <td>3964-QJWTRG-NPN</td>\n",
       "      <td>1</td>\n",
       "      <td>2.0</td>\n",
       "      <td>1</td>\n",
       "      <td>20</td>\n",
       "      <td>2</td>\n",
       "      <td>September</td>\n",
       "      <td>15</td>\n",
       "      <td>3</td>\n",
       "      <td>1</td>\n",
       "      <td>...</td>\n",
       "      <td>0</td>\n",
       "      <td>0</td>\n",
       "      <td>0</td>\n",
       "      <td>1</td>\n",
       "      <td>1</td>\n",
       "      <td>0</td>\n",
       "      <td>0</td>\n",
       "      <td>0</td>\n",
       "      <td>1</td>\n",
       "      <td>0</td>\n",
       "    </tr>\n",
       "    <tr>\n",
       "      <th>1</th>\n",
       "      <td>0648-AIPJSP-UVM</td>\n",
       "      <td>5</td>\n",
       "      <td>5.0</td>\n",
       "      <td>0</td>\n",
       "      <td>22</td>\n",
       "      <td>2</td>\n",
       "      <td>May</td>\n",
       "      <td>17</td>\n",
       "      <td>4</td>\n",
       "      <td>2</td>\n",
       "      <td>...</td>\n",
       "      <td>1</td>\n",
       "      <td>1</td>\n",
       "      <td>1</td>\n",
       "      <td>1</td>\n",
       "      <td>1</td>\n",
       "      <td>1</td>\n",
       "      <td>1</td>\n",
       "      <td>0</td>\n",
       "      <td>0</td>\n",
       "      <td>0</td>\n",
       "    </tr>\n",
       "    <tr>\n",
       "      <th>2</th>\n",
       "      <td>5195-TLUDJE-HVO</td>\n",
       "      <td>3</td>\n",
       "      <td>4.0</td>\n",
       "      <td>1</td>\n",
       "      <td>67</td>\n",
       "      <td>6</td>\n",
       "      <td>June</td>\n",
       "      <td>14</td>\n",
       "      <td>2</td>\n",
       "      <td>2</td>\n",
       "      <td>...</td>\n",
       "      <td>1</td>\n",
       "      <td>0</td>\n",
       "      <td>0</td>\n",
       "      <td>0</td>\n",
       "      <td>0</td>\n",
       "      <td>0</td>\n",
       "      <td>1</td>\n",
       "      <td>0</td>\n",
       "      <td>0</td>\n",
       "      <td>0</td>\n",
       "    </tr>\n",
       "    <tr>\n",
       "      <th>3</th>\n",
       "      <td>4459-VLPQUH-3OL</td>\n",
       "      <td>4</td>\n",
       "      <td>3.0</td>\n",
       "      <td>0</td>\n",
       "      <td>23</td>\n",
       "      <td>2</td>\n",
       "      <td>May</td>\n",
       "      <td>16</td>\n",
       "      <td>3</td>\n",
       "      <td>2</td>\n",
       "      <td>...</td>\n",
       "      <td>1</td>\n",
       "      <td>0</td>\n",
       "      <td>1</td>\n",
       "      <td>1</td>\n",
       "      <td>1</td>\n",
       "      <td>0</td>\n",
       "      <td>1</td>\n",
       "      <td>1</td>\n",
       "      <td>0</td>\n",
       "      <td>0</td>\n",
       "    </tr>\n",
       "    <tr>\n",
       "      <th>4</th>\n",
       "      <td>8158-SMTQFB-CNO</td>\n",
       "      <td>2</td>\n",
       "      <td>2.0</td>\n",
       "      <td>0</td>\n",
       "      <td>26</td>\n",
       "      <td>3</td>\n",
       "      <td>July</td>\n",
       "      <td>16</td>\n",
       "      <td>3</td>\n",
       "      <td>2</td>\n",
       "      <td>...</td>\n",
       "      <td>1</td>\n",
       "      <td>0</td>\n",
       "      <td>1</td>\n",
       "      <td>0</td>\n",
       "      <td>1</td>\n",
       "      <td>0</td>\n",
       "      <td>0</td>\n",
       "      <td>0</td>\n",
       "      <td>1</td>\n",
       "      <td>0</td>\n",
       "    </tr>\n",
       "  </tbody>\n",
       "</table>\n",
       "<p>5 rows × 130 columns</p>\n",
       "</div>"
      ],
      "text/plain": [
       "            custid  region  townsize  gender  age  agecat birthmonth  ed  \\\n",
       "0  3964-QJWTRG-NPN       1       2.0       1   20       2  September  15   \n",
       "1  0648-AIPJSP-UVM       5       5.0       0   22       2        May  17   \n",
       "2  5195-TLUDJE-HVO       3       4.0       1   67       6       June  14   \n",
       "3  4459-VLPQUH-3OL       4       3.0       0   23       2        May  16   \n",
       "4  8158-SMTQFB-CNO       2       2.0       0   26       3       July  16   \n",
       "\n",
       "   edcat  jobcat  ...  owncd  ownpda  ownpc  ownipod  owngame  ownfax  news  \\\n",
       "0      3       1  ...      0       0      0        1        1       0     0   \n",
       "1      4       2  ...      1       1      1        1        1       1     1   \n",
       "2      2       2  ...      1       0      0        0        0       0     1   \n",
       "3      3       2  ...      1       0      1        1        1       0     1   \n",
       "4      3       2  ...      1       0      1        0        1       0     0   \n",
       "\n",
       "   response_01  response_02  response_03  \n",
       "0            0            1            0  \n",
       "1            0            0            0  \n",
       "2            0            0            0  \n",
       "3            1            0            0  \n",
       "4            0            1            0  \n",
       "\n",
       "[5 rows x 130 columns]"
      ]
     },
     "execution_count": 3,
     "metadata": {},
     "output_type": "execute_result"
    }
   ],
   "source": [
    "credit.head()"
   ]
  },
  {
   "cell_type": "code",
   "execution_count": 4,
   "metadata": {},
   "outputs": [
    {
     "data": {
      "text/plain": [
       "(5000, 130)"
      ]
     },
     "execution_count": 4,
     "metadata": {},
     "output_type": "execute_result"
    }
   ],
   "source": [
    "credit.shape"
   ]
  },
  {
   "cell_type": "code",
   "execution_count": 5,
   "metadata": {},
   "outputs": [
    {
     "data": {
      "text/plain": [
       "15"
      ]
     },
     "execution_count": 5,
     "metadata": {},
     "output_type": "execute_result"
    }
   ],
   "source": [
    "# missing value check \n",
    "credit.isnull().any().sum()"
   ]
  },
  {
   "cell_type": "code",
   "execution_count": 6,
   "metadata": {},
   "outputs": [],
   "source": [
    "credit['total_spent']=credit['cardspent']+credit['card2spent']"
   ]
  },
  {
   "cell_type": "code",
   "execution_count": 7,
   "metadata": {},
   "outputs": [],
   "source": [
    "credit.drop(['cardspent', 'card2spent'], axis = 1, inplace = True)"
   ]
  },
  {
   "cell_type": "code",
   "execution_count": 8,
   "metadata": {},
   "outputs": [],
   "source": [
    "credit['ln_TotalSpent']=np.log(credit['total_spent'])"
   ]
  },
  {
   "cell_type": "code",
   "execution_count": 9,
   "metadata": {},
   "outputs": [
    {
     "data": {
      "text/plain": [
       "<AxesSubplot:ylabel='Frequency'>"
      ]
     },
     "execution_count": 9,
     "metadata": {},
     "output_type": "execute_result"
    },
    {
     "data": {
      "image/png": "[encoded data removed]",
      "text/plain": [
       "<Figure size 720x576 with 1 Axes>"
      ]
     },
     "metadata": {
      "needs_background": "light"
     },
     "output_type": "display_data"
    }
   ],
   "source": [
    "credit['ln_TotalSpent'].plot.hist(bins=10)"
   ]
  },
  {
   "cell_type": "code",
   "execution_count": 10,
   "metadata": {},
   "outputs": [],
   "source": [
    "credit.drop(['total_spent'], axis = 1, inplace = True)"
   ]
  },
  {
   "cell_type": "code",
   "execution_count": 11,
   "metadata": {},
   "outputs": [],
   "source": [
    "# as we have taken log of depndent variable we can drop incependent variable which have log and normal value \n",
    "\n",
    "credit.drop(['custid', 'birthmonth', 'pets','age', 'creddebt', 'income', 'othdebt', 'commute', 'vote', 'polview', 'callid', 'wiremon',\n",
    "            'wireten', 'cardten', 'cardmon', 'equipten', 'equipmon', 'tollten', 'tollmon', 'longten', 'longmon'\n",
    "            ], axis = 1, inplace = True)"
   ]
  },
  {
   "cell_type": "code",
   "execution_count": 15,
   "metadata": {},
   "outputs": [
    {
     "data": {
      "text/plain": [
       "0"
      ]
     },
     "execution_count": 15,
     "metadata": {},
     "output_type": "execute_result"
    }
   ],
   "source": [
    "credit.isnull().any().sum()"
   ]
  },
  {
   "cell_type": "code",
   "execution_count": 13,
   "metadata": {},
   "outputs": [],
   "source": [
    "credit.fillna(0, inplace=True)"
   ]
  },
  {
   "cell_type": "code",
   "execution_count": 14,
   "metadata": {},
   "outputs": [
    {
     "name": "stdout",
     "output_type": "stream",
     "text": [
      "<class 'pandas.core.frame.DataFrame'>\n",
      "RangeIndex: 5000 entries, 0 to 4999\n",
      "Columns: 108 entries, region to ln_TotalSpent\n",
      "dtypes: float64(18), int64(90)\n",
      "memory usage: 4.1 MB\n"
     ]
    }
   ],
   "source": [
    "credit.info()"
   ]
  },
  {
   "cell_type": "code",
   "execution_count": 16,
   "metadata": {},
   "outputs": [],
   "source": [
    "# no need of outlier"
   ]
  },
  {
   "cell_type": "code",
   "execution_count": 17,
   "metadata": {},
   "outputs": [],
   "source": [
    "# corelation \n",
    "corrm=credit.corr()\n"
   ]
  },
  {
   "cell_type": "code",
   "execution_count": 18,
   "metadata": {},
   "outputs": [],
   "source": [
    "corrm.to_csv('C:/Users/tejan/Desktop/corr.csv')"
   ]
  },
  {
   "cell_type": "code",
   "execution_count": null,
   "metadata": {},
   "outputs": [],
   "source": []
  },
  {
   "cell_type": "code",
   "execution_count": 19,
   "metadata": {},
   "outputs": [],
   "source": [
    "train, test = train_test_split(credit, test_size = 0.3, random_state = 12345)"
   ]
  },
  {
   "cell_type": "code",
   "execution_count": 20,
   "metadata": {},
   "outputs": [],
   "source": [
    "feature_columns = credit.columns.difference (['ln_TotalSpent'])\n"
   ]
  },
  {
   "cell_type": "code",
   "execution_count": 21,
   "metadata": {},
   "outputs": [],
   "source": [
    "from statsmodels.stats.outliers_influence import variance_inflation_factor\n",
    "from patsy import dmatrices"
   ]
  },
  {
   "cell_type": "code",
   "execution_count": 23,
   "metadata": {},
   "outputs": [],
   "source": [
    "#creating VIF\n",
    "# to check the multicollinearity\n",
    "model_param = 'ln_TotalSpent ~ ' + ' + '.join(feature_columns)\n"
   ]
  },
  {
   "cell_type": "code",
   "execution_count": 24,
   "metadata": {},
   "outputs": [],
   "source": [
    "y, X = dmatrices(model_param , train, return_type = 'dataframe')\n",
    "\n",
    "# For each X, calculate VIF and save in dataframe\n",
    "vif = pd.DataFrame()\n",
    "vif['Features'] = X.columns\n",
    "vif['VIF Factor'] = [variance_inflation_factor(X.values, i) for i in range(X.shape[1])]\n",
    "\n",
    "# display the output\n",
    "# vif.round(1)\n"
   ]
  },
  {
   "cell_type": "code",
   "execution_count": 25,
   "metadata": {},
   "outputs": [],
   "source": [
    "vif.round(1).sort_values('VIF Factor', ascending= False).to_csv('C:/Users/tejan/Desktop/VIF.csv')"
   ]
  },
  {
   "cell_type": "code",
   "execution_count": 26,
   "metadata": {},
   "outputs": [],
   "source": [
    "# dropping on the basis of VIF and correlation \n",
    "credit.drop(['lnequipmon', 'spoused', 'lntollmon', 'wireless', 'card2tenure', 'ed', 'address', ], axis = 1, inplace = True)"
   ]
  },
  {
   "cell_type": "code",
   "execution_count": 27,
   "metadata": {},
   "outputs": [],
   "source": [
    "credit.drop(['lnwiremon','lncardten', 'equip', 'lncardmon', 'inccat' ], axis = 1, inplace = True)"
   ]
  },
  {
   "cell_type": "code",
   "execution_count": 28,
   "metadata": {},
   "outputs": [],
   "source": [
    "credit.drop([ 'carvalue','addresscat', 'card2tenurecat','commutebus', 'commutebike', 'commutecar',\n",
    "'commutecat',  'commutenonmotor', 'confer', 'commutewalk', 'news', 'owncd', 'ownfax', 'owngame', \n",
    "'ownpda', 'ownipod', 'ownvcr', 'pets_cats', 'response_01', 'response_02', 'tollfree', 'tenure' ], axis = 1, inplace = True)"
   ]
  },
  {
   "cell_type": "code",
   "execution_count": 29,
   "metadata": {},
   "outputs": [],
   "source": [
    "credit.drop(['lnlongten', 'bfast', 'homeown', 'commutepublic', 'lnequipten', 'lntollten' , 'lnwireten', 'pets_freshfish',\n",
    "             'polparty', 'townsize', 'telecommute', 'spousedcat', 'reside' ], axis = 1, inplace = True)"
   ]
  },
  {
   "cell_type": "code",
   "execution_count": 30,
   "metadata": {},
   "outputs": [],
   "source": [
    "credit.drop([ 'cardfee', 'cardtenure', 'employ', 'lnlongmon'], axis = 1, inplace = True)"
   ]
  },
  {
   "cell_type": "code",
   "execution_count": 31,
   "metadata": {},
   "outputs": [],
   "source": [
    "credit.drop(['pets_small', 'callcard', 'callwait', 'forward', 'jobsat', 'empcat',  ], axis = 1, inplace = True)"
   ]
  },
  {
   "cell_type": "code",
   "execution_count": 32,
   "metadata": {},
   "outputs": [],
   "source": [
    "credit.drop(['voice', 'polcontrib', 'pets_saltfish', 'pets_birds', 'pager', 'marital', 'hometype', 'edcat', 'union', \n",
    "             'pets_reptiles', 'multline', 'hometype' , 'cartype'  ], axis = 1, inplace = True)"
   ]
  },
  {
   "cell_type": "code",
   "execution_count": 33,
   "metadata": {},
   "outputs": [],
   "source": [
    "credit.drop(['region','jobcat', 'commutetime', 'commuterail', 'ownpc','commutemotorcycle' , 'commutecarpool', 'carbought', 'carcatvalue' ], axis = 1, inplace = True)"
   ]
  },
  {
   "cell_type": "code",
   "execution_count": null,
   "metadata": {},
   "outputs": [],
   "source": [
    "# dropped insignificant variables ont the basis of high multicollinearity"
   ]
  },
  {
   "cell_type": "code",
   "execution_count": 157,
   "metadata": {
    "scrolled": true
   },
   "outputs": [
    {
     "name": "stdout",
     "output_type": "stream",
     "text": [
      "                            OLS Regression Results                            \n",
      "==============================================================================\n",
      "Dep. Variable:          ln_TotalSpent   R-squared:                       0.269\n",
      "Model:                            OLS   Adj. R-squared:                  0.263\n",
      "Method:                 Least Squares   F-statistic:                     44.02\n",
      "Date:                Tue, 29 Dec 2020   Prob (F-statistic):          4.61e-211\n",
      "Time:                        16:46:16   Log-Likelihood:                -3031.5\n",
      "No. Observations:                3500   AIC:                             6123.\n",
      "Df Residuals:                    3470   BIC:                             6308.\n",
      "Df Model:                          29                                         \n",
      "Covariance Type:            nonrobust                                         \n",
      "=================================================================================\n",
      "                    coef    std err          t      P>|t|      [0.025      0.975]\n",
      "---------------------------------------------------------------------------------\n",
      "Intercept         5.6345      0.159     35.491      0.000       5.323       5.946\n",
      "active            0.0238      0.020      1.180      0.238      -0.016       0.063\n",
      "agecat           -0.0276      0.013     -2.148      0.032      -0.053      -0.002\n",
      "carbuy            0.0332      0.020      1.624      0.105      -0.007       0.073\n",
      "card             -0.1818      0.009    -20.083      0.000      -0.200      -0.164\n",
      "card2            -0.1005      0.009    -11.139      0.000      -0.118      -0.083\n",
      "card2benefit     -0.0037      0.009     -0.421      0.674      -0.021       0.014\n",
      "card2fee         -0.0200      0.025     -0.802      0.422      -0.069       0.029\n",
      "card2type         0.0061      0.009      0.701      0.483      -0.011       0.023\n",
      "cardbenefit      -0.0019      0.009     -0.216      0.829      -0.019       0.015\n",
      "cardtenurecat    -0.0131      0.011     -1.212      0.226      -0.034       0.008\n",
      "cardtype         -0.0008      0.009     -0.093      0.926      -0.018       0.016\n",
      "carown           -0.0091      0.018     -0.515      0.607      -0.044       0.025\n",
      "cars              0.0088      0.009      1.030      0.303      -0.008       0.026\n",
      "churn             0.0345      0.026      1.349      0.177      -0.016       0.085\n",
      "debtinc           0.0017      0.003      0.536      0.592      -0.005       0.008\n",
      "default          -0.0092      0.027     -0.342      0.732      -0.062       0.044\n",
      "ebill            -0.0457      0.025     -1.818      0.069      -0.095       0.004\n",
      "gender           -0.0853      0.020     -4.340      0.000      -0.124      -0.047\n",
      "hourstv           0.0032      0.002      1.474      0.141      -0.001       0.008\n",
      "internet          0.0161      0.008      1.930      0.054      -0.000       0.033\n",
      "lncreddebt        0.0084      0.013      0.645      0.519      -0.017       0.034\n",
      "lninc             0.3505      0.031     11.175      0.000       0.289       0.412\n",
      "lnothdebt         0.0067      0.021      0.328      0.743      -0.034       0.047\n",
      "owndvd            0.0758      0.040      1.877      0.061      -0.003       0.155\n",
      "owntv            -0.1097      0.091     -1.208      0.227      -0.288       0.068\n",
      "pets_dogs         0.0169      0.012      1.382      0.167      -0.007       0.041\n",
      "reason           -0.0063      0.003     -1.836      0.067      -0.013       0.000\n",
      "response_03       0.0573      0.033      1.761      0.078      -0.006       0.121\n",
      "retire            0.0319      0.041      0.776      0.438      -0.049       0.112\n",
      "==============================================================================\n",
      "Omnibus:                      436.635   Durbin-Watson:                   1.959\n",
      "Prob(Omnibus):                  0.000   Jarque-Bera (JB):             1070.547\n",
      "Skew:                          -0.714   Prob(JB):                    3.42e-233\n",
      "Kurtosis:                       5.302   Cond. No.                         433.\n",
      "==============================================================================\n",
      "\n",
      "Warnings:\n",
      "[1] Standard Errors assume that the covariance matrix of the errors is correctly specified.\n"
     ]
    }
   ],
   "source": [
    "# creating stats model to check p values of the variable on the basis of that we will drop variables\n",
    "\n",
    "#model 1\n",
    "lm1 = smf.ols(model_param, train).fit()\n",
    "print(lm1.summary())"
   ]
  },
  {
   "cell_type": "code",
   "execution_count": 35,
   "metadata": {},
   "outputs": [],
   "source": [
    "credit2 = credit"
   ]
  },
  {
   "cell_type": "code",
   "execution_count": 36,
   "metadata": {},
   "outputs": [],
   "source": [
    "# model2"
   ]
  },
  {
   "cell_type": "code",
   "execution_count": 37,
   "metadata": {},
   "outputs": [
    {
     "data": {
      "text/plain": [
       "(5000, 30)"
      ]
     },
     "execution_count": 37,
     "metadata": {},
     "output_type": "execute_result"
    }
   ],
   "source": [
    "credit.shape"
   ]
  },
  {
   "cell_type": "code",
   "execution_count": 38,
   "metadata": {},
   "outputs": [],
   "source": [
    "# now dropping some variables on the basis of P values\n",
    "credit2.drop([ 'lnothdebt', 'card2fee'], axis = 1, inplace = True)"
   ]
  },
  {
   "cell_type": "code",
   "execution_count": 39,
   "metadata": {},
   "outputs": [],
   "source": [
    "credit2.drop([ 'carown', 'cardbenefit','card2benefit', 'cardtype', 'card2type', ], axis = 1, inplace = True)"
   ]
  },
  {
   "cell_type": "code",
   "execution_count": null,
   "metadata": {},
   "outputs": [],
   "source": []
  },
  {
   "cell_type": "code",
   "execution_count": 40,
   "metadata": {},
   "outputs": [],
   "source": [
    "feature_columns1 = credit2.columns.difference (['ln_TotalSpent'])\n"
   ]
  },
  {
   "cell_type": "code",
   "execution_count": 41,
   "metadata": {},
   "outputs": [],
   "source": [
    "#creating VIF\n",
    "model_param2 = 'ln_TotalSpent ~ ' + ' + '.join(feature_columns1)\n"
   ]
  },
  {
   "cell_type": "code",
   "execution_count": 42,
   "metadata": {},
   "outputs": [],
   "source": [
    "train1, test1 = train_test_split(credit2, test_size = 0.3, random_state = 12345)"
   ]
  },
  {
   "cell_type": "code",
   "execution_count": 43,
   "metadata": {},
   "outputs": [
    {
     "name": "stdout",
     "output_type": "stream",
     "text": [
      "                            OLS Regression Results                            \n",
      "==============================================================================\n",
      "Dep. Variable:          ln_TotalSpent   R-squared:                       0.269\n",
      "Model:                            OLS   Adj. R-squared:                  0.264\n",
      "Method:                 Least Squares   F-statistic:                     58.03\n",
      "Date:                Thu, 04 Feb 2021   Prob (F-statistic):          1.07e-216\n",
      "Time:                        16:53:06   Log-Likelihood:                -3032.4\n",
      "No. Observations:                3500   AIC:                             6111.\n",
      "Df Residuals:                    3477   BIC:                             6252.\n",
      "Df Model:                          22                                         \n",
      "Covariance Type:            nonrobust                                         \n",
      "=================================================================================\n",
      "                    coef    std err          t      P>|t|      [0.025      0.975]\n",
      "---------------------------------------------------------------------------------\n",
      "Intercept         5.6009      0.123     45.515      0.000       5.360       5.842\n",
      "active            0.0232      0.020      1.152      0.250      -0.016       0.063\n",
      "agecat           -0.0271      0.013     -2.117      0.034      -0.052      -0.002\n",
      "carbuy            0.0334      0.020      1.633      0.103      -0.007       0.073\n",
      "card             -0.1818      0.009    -20.129      0.000      -0.200      -0.164\n",
      "card2            -0.1007      0.009    -11.186      0.000      -0.118      -0.083\n",
      "cardtenurecat    -0.0132      0.011     -1.216      0.224      -0.034       0.008\n",
      "cars              0.0069      0.008      0.910      0.363      -0.008       0.022\n",
      "churn             0.0348      0.026      1.361      0.174      -0.015       0.085\n",
      "debtinc           0.0026      0.002      1.254      0.210      -0.001       0.007\n",
      "default          -0.0104      0.027     -0.388      0.698      -0.063       0.042\n",
      "ebill            -0.0461      0.025     -1.837      0.066      -0.095       0.003\n",
      "gender           -0.0856      0.020     -4.365      0.000      -0.124      -0.047\n",
      "hourstv           0.0033      0.002      1.508      0.132      -0.001       0.008\n",
      "internet          0.0163      0.008      1.948      0.052      -0.000       0.033\n",
      "lncreddebt        0.0073      0.013      0.569      0.569      -0.018       0.032\n",
      "lninc             0.3569      0.022     16.257      0.000       0.314       0.400\n",
      "owndvd            0.0751      0.040      1.864      0.062      -0.004       0.154\n",
      "owntv            -0.1115      0.091     -1.230      0.219      -0.289       0.066\n",
      "pets_dogs         0.0167      0.012      1.375      0.169      -0.007       0.041\n",
      "reason           -0.0063      0.003     -1.834      0.067      -0.013       0.000\n",
      "response_03       0.0571      0.032      1.760      0.078      -0.006       0.121\n",
      "retire            0.0317      0.041      0.772      0.440      -0.049       0.112\n",
      "==============================================================================\n",
      "Omnibus:                      435.094   Durbin-Watson:                   1.959\n",
      "Prob(Omnibus):                  0.000   Jarque-Bera (JB):             1064.784\n",
      "Skew:                          -0.713   Prob(JB):                    6.10e-232\n",
      "Kurtosis:                       5.296   Cond. No.                         347.\n",
      "==============================================================================\n",
      "\n",
      "Notes:\n",
      "[1] Standard Errors assume that the covariance matrix of the errors is correctly specified.\n"
     ]
    }
   ],
   "source": [
    "# creating stats model to check p values of the variable on the basis of that we will drop variables\n",
    "\n",
    "#model 1\n",
    "lm2 = smf.ols(model_param2, train1).fit()\n",
    "print(lm2.summary())"
   ]
  },
  {
   "cell_type": "code",
   "execution_count": null,
   "metadata": {},
   "outputs": [],
   "source": []
  },
  {
   "cell_type": "code",
   "execution_count": 44,
   "metadata": {},
   "outputs": [
    {
     "name": "stderr",
     "output_type": "stream",
     "text": [
      "<ipython-input-44-a5ec91deafae>:1: SettingWithCopyWarning: \n",
      "A value is trying to be set on a copy of a slice from a DataFrame.\n",
      "Try using .loc[row_indexer,col_indexer] = value instead\n",
      "\n",
      "See the caveats in the documentation: https://pandas.pydata.org/pandas-docs/stable/user_guide/indexing.html#returning-a-view-versus-a-copy\n",
      "  train1['pred_spend'] = np.exp(lm2.predict(train1))\n"
     ]
    }
   ],
   "source": [
    "train1['pred_spend'] = np.exp(lm2.predict(train1))\n"
   ]
  },
  {
   "cell_type": "code",
   "execution_count": 45,
   "metadata": {
    "scrolled": true
   },
   "outputs": [
    {
     "name": "stderr",
     "output_type": "stream",
     "text": [
      "<ipython-input-45-6dde5a1b5fae>:1: SettingWithCopyWarning: \n",
      "A value is trying to be set on a copy of a slice from a DataFrame.\n",
      "Try using .loc[row_indexer,col_indexer] = value instead\n",
      "\n",
      "See the caveats in the documentation: https://pandas.pydata.org/pandas-docs/stable/user_guide/indexing.html#returning-a-view-versus-a-copy\n",
      "  test1['pred_spend'] = np.exp(lm2.predict(test1))\n"
     ]
    }
   ],
   "source": [
    "test1['pred_spend'] = np.exp(lm2.predict(test1))"
   ]
  },
  {
   "cell_type": "code",
   "execution_count": 47,
   "metadata": {},
   "outputs": [
    {
     "name": "stderr",
     "output_type": "stream",
     "text": [
      "<ipython-input-47-fded4157a81a>:1: SettingWithCopyWarning: \n",
      "A value is trying to be set on a copy of a slice from a DataFrame.\n",
      "Try using .loc[row_indexer,col_indexer] = value instead\n",
      "\n",
      "See the caveats in the documentation: https://pandas.pydata.org/pandas-docs/stable/user_guide/indexing.html#returning-a-view-versus-a-copy\n",
      "  train1['actual_spend'] = np.exp(train1.ln_TotalSpent)\n",
      "<ipython-input-47-fded4157a81a>:2: SettingWithCopyWarning: \n",
      "A value is trying to be set on a copy of a slice from a DataFrame.\n",
      "Try using .loc[row_indexer,col_indexer] = value instead\n",
      "\n",
      "See the caveats in the documentation: https://pandas.pydata.org/pandas-docs/stable/user_guide/indexing.html#returning-a-view-versus-a-copy\n",
      "  test1['actual_spend'] = np.exp(test1.ln_TotalSpent)\n"
     ]
    }
   ],
   "source": [
    "\n",
    "train1['actual_spend'] = np.exp(train1.ln_TotalSpent)\n",
    "test1['actual_spend'] = np.exp(test1.ln_TotalSpent)\n"
   ]
  },
  {
   "cell_type": "code",
   "execution_count": 48,
   "metadata": {},
   "outputs": [
    {
     "data": {
      "text/html": [
       "<div>\n",
       "<style scoped>\n",
       "    .dataframe tbody tr th:only-of-type {\n",
       "        vertical-align: middle;\n",
       "    }\n",
       "\n",
       "    .dataframe tbody tr th {\n",
       "        vertical-align: top;\n",
       "    }\n",
       "\n",
       "    .dataframe thead th {\n",
       "        text-align: right;\n",
       "    }\n",
       "</style>\n",
       "<table border=\"1\" class=\"dataframe\">\n",
       "  <thead>\n",
       "    <tr style=\"text-align: right;\">\n",
       "      <th></th>\n",
       "      <th>gender</th>\n",
       "      <th>agecat</th>\n",
       "      <th>retire</th>\n",
       "      <th>lninc</th>\n",
       "      <th>debtinc</th>\n",
       "      <th>lncreddebt</th>\n",
       "      <th>default</th>\n",
       "      <th>pets_dogs</th>\n",
       "      <th>cars</th>\n",
       "      <th>carbuy</th>\n",
       "      <th>...</th>\n",
       "      <th>churn</th>\n",
       "      <th>internet</th>\n",
       "      <th>ebill</th>\n",
       "      <th>owntv</th>\n",
       "      <th>hourstv</th>\n",
       "      <th>owndvd</th>\n",
       "      <th>response_03</th>\n",
       "      <th>ln_TotalSpent</th>\n",
       "      <th>pred_spend</th>\n",
       "      <th>actual_spend</th>\n",
       "    </tr>\n",
       "  </thead>\n",
       "  <tbody>\n",
       "    <tr>\n",
       "      <th>509</th>\n",
       "      <td>0</td>\n",
       "      <td>4</td>\n",
       "      <td>0</td>\n",
       "      <td>4.094345</td>\n",
       "      <td>7.4</td>\n",
       "      <td>0.859543</td>\n",
       "      <td>0</td>\n",
       "      <td>0</td>\n",
       "      <td>3</td>\n",
       "      <td>1</td>\n",
       "      <td>...</td>\n",
       "      <td>0</td>\n",
       "      <td>0</td>\n",
       "      <td>0</td>\n",
       "      <td>1</td>\n",
       "      <td>16</td>\n",
       "      <td>1</td>\n",
       "      <td>0</td>\n",
       "      <td>6.743953</td>\n",
       "      <td>594.146246</td>\n",
       "      <td>848.91</td>\n",
       "    </tr>\n",
       "    <tr>\n",
       "      <th>3847</th>\n",
       "      <td>1</td>\n",
       "      <td>6</td>\n",
       "      <td>0</td>\n",
       "      <td>5.252273</td>\n",
       "      <td>9.7</td>\n",
       "      <td>2.046955</td>\n",
       "      <td>0</td>\n",
       "      <td>2</td>\n",
       "      <td>3</td>\n",
       "      <td>1</td>\n",
       "      <td>...</td>\n",
       "      <td>0</td>\n",
       "      <td>0</td>\n",
       "      <td>0</td>\n",
       "      <td>1</td>\n",
       "      <td>18</td>\n",
       "      <td>1</td>\n",
       "      <td>1</td>\n",
       "      <td>6.419848</td>\n",
       "      <td>788.345817</td>\n",
       "      <td>613.91</td>\n",
       "    </tr>\n",
       "    <tr>\n",
       "      <th>3417</th>\n",
       "      <td>1</td>\n",
       "      <td>6</td>\n",
       "      <td>0</td>\n",
       "      <td>4.465908</td>\n",
       "      <td>5.3</td>\n",
       "      <td>-0.111452</td>\n",
       "      <td>0</td>\n",
       "      <td>0</td>\n",
       "      <td>5</td>\n",
       "      <td>1</td>\n",
       "      <td>...</td>\n",
       "      <td>0</td>\n",
       "      <td>0</td>\n",
       "      <td>0</td>\n",
       "      <td>1</td>\n",
       "      <td>17</td>\n",
       "      <td>1</td>\n",
       "      <td>0</td>\n",
       "      <td>6.265206</td>\n",
       "      <td>472.389400</td>\n",
       "      <td>525.95</td>\n",
       "    </tr>\n",
       "    <tr>\n",
       "      <th>382</th>\n",
       "      <td>0</td>\n",
       "      <td>4</td>\n",
       "      <td>0</td>\n",
       "      <td>2.772589</td>\n",
       "      <td>11.8</td>\n",
       "      <td>-0.425798</td>\n",
       "      <td>1</td>\n",
       "      <td>0</td>\n",
       "      <td>2</td>\n",
       "      <td>0</td>\n",
       "      <td>...</td>\n",
       "      <td>1</td>\n",
       "      <td>3</td>\n",
       "      <td>1</td>\n",
       "      <td>1</td>\n",
       "      <td>27</td>\n",
       "      <td>1</td>\n",
       "      <td>0</td>\n",
       "      <td>5.803266</td>\n",
       "      <td>344.208827</td>\n",
       "      <td>331.38</td>\n",
       "    </tr>\n",
       "    <tr>\n",
       "      <th>1345</th>\n",
       "      <td>0</td>\n",
       "      <td>5</td>\n",
       "      <td>0</td>\n",
       "      <td>3.465736</td>\n",
       "      <td>15.8</td>\n",
       "      <td>0.064679</td>\n",
       "      <td>0</td>\n",
       "      <td>0</td>\n",
       "      <td>2</td>\n",
       "      <td>0</td>\n",
       "      <td>...</td>\n",
       "      <td>0</td>\n",
       "      <td>0</td>\n",
       "      <td>0</td>\n",
       "      <td>1</td>\n",
       "      <td>22</td>\n",
       "      <td>1</td>\n",
       "      <td>0</td>\n",
       "      <td>6.743588</td>\n",
       "      <td>422.081206</td>\n",
       "      <td>848.60</td>\n",
       "    </tr>\n",
       "  </tbody>\n",
       "</table>\n",
       "<p>5 rows × 25 columns</p>\n",
       "</div>"
      ],
      "text/plain": [
       "      gender  agecat  retire     lninc  debtinc  lncreddebt  default  \\\n",
       "509        0       4       0  4.094345      7.4    0.859543        0   \n",
       "3847       1       6       0  5.252273      9.7    2.046955        0   \n",
       "3417       1       6       0  4.465908      5.3   -0.111452        0   \n",
       "382        0       4       0  2.772589     11.8   -0.425798        1   \n",
       "1345       0       5       0  3.465736     15.8    0.064679        0   \n",
       "\n",
       "      pets_dogs  cars  carbuy  ...  churn  internet  ebill  owntv  hourstv  \\\n",
       "509           0     3       1  ...      0         0      0      1       16   \n",
       "3847          2     3       1  ...      0         0      0      1       18   \n",
       "3417          0     5       1  ...      0         0      0      1       17   \n",
       "382           0     2       0  ...      1         3      1      1       27   \n",
       "1345          0     2       0  ...      0         0      0      1       22   \n",
       "\n",
       "      owndvd  response_03  ln_TotalSpent  pred_spend  actual_spend  \n",
       "509        1            0       6.743953  594.146246        848.91  \n",
       "3847       1            1       6.419848  788.345817        613.91  \n",
       "3417       1            0       6.265206  472.389400        525.95  \n",
       "382        1            0       5.803266  344.208827        331.38  \n",
       "1345       1            0       6.743588  422.081206        848.60  \n",
       "\n",
       "[5 rows x 25 columns]"
      ]
     },
     "execution_count": 48,
     "metadata": {},
     "output_type": "execute_result"
    }
   ],
   "source": [
    "train1.head()"
   ]
  },
  {
   "cell_type": "code",
   "execution_count": 49,
   "metadata": {},
   "outputs": [],
   "source": [
    "from sklearn import metrics\n",
    "import numpy as np\n",
    "import scipy.stats as stats"
   ]
  },
  {
   "cell_type": "code",
   "execution_count": 50,
   "metadata": {},
   "outputs": [
    {
     "name": "stdout",
     "output_type": "stream",
     "text": [
      "0.5577003217671008\n",
      "95730.90807198497\n",
      "test data set................\n",
      "0.5802677293683657\n",
      "97208.65531983455\n"
     ]
    }
   ],
   "source": [
    "MAPE_train = np.mean(np.abs(train1.actual_spend - train1.pred_spend)/train1.actual_spend )\n",
    "print(MAPE_train)\n",
    "\n",
    "RMSE_train = metrics.mean_squared_error(train1.actual_spend , train1.pred_spend)\n",
    "print(RMSE_train)\n",
    "\n",
    "print('test data set................')\n",
    "\n",
    "#Test Data\n",
    "MAPE_test = np.mean(np.abs(test1.actual_spend - test1.pred_spend)/test1.actual_spend )\n",
    "print(MAPE_test)\n",
    "\n",
    "RMSE_test = metrics.mean_squared_error(test1.actual_spend , test1.pred_spend)\n",
    "print(RMSE_test)"
   ]
  },
  {
   "cell_type": "code",
   "execution_count": null,
   "metadata": {},
   "outputs": [],
   "source": [
    "########"
   ]
  },
  {
   "cell_type": "code",
   "execution_count": 52,
   "metadata": {},
   "outputs": [],
   "source": [
    "residuals = train1['pred_spend'] - train1['actual_spend']"
   ]
  },
  {
   "cell_type": "code",
   "execution_count": 53,
   "metadata": {},
   "outputs": [
    {
     "data": {
      "image/png": "[encoded data removed]",
      "text/plain": [
       "<Figure size 720x576 with 1 Axes>"
      ]
     },
     "metadata": {
      "needs_background": "light"
     },
     "output_type": "display_data"
    }
   ],
   "source": [
    "from scipy import stats\n",
    "import pylab\n",
    "\n",
    "stats.probplot( residuals, dist=\"norm\", plot=pylab )\n",
    "pylab.show()"
   ]
  },
  {
   "cell_type": "code",
   "execution_count": 54,
   "metadata": {},
   "outputs": [
    {
     "name": "stderr",
     "output_type": "stream",
     "text": [
      "C:\\Users\\tejan\\anaconda3\\lib\\site-packages\\seaborn\\distributions.py:2551: FutureWarning: `distplot` is a deprecated function and will be removed in a future version. Please adapt your code to use either `displot` (a figure-level function with similar flexibility) or `histplot` (an axes-level function for histograms).\n",
      "  warnings.warn(msg, FutureWarning)\n"
     ]
    },
    {
     "data": {
      "text/plain": [
       "<AxesSubplot:ylabel='Density'>"
      ]
     },
     "execution_count": 54,
     "metadata": {},
     "output_type": "execute_result"
    },
    {
     "data": {
      "image/png": "[encoded data removed]",
      "text/plain": [
       "<Figure size 720x576 with 1 Axes>"
      ]
     },
     "metadata": {
      "needs_background": "light"
     },
     "output_type": "display_data"
    }
   ],
   "source": [
    "sns.distplot( residuals )"
   ]
  },
  {
   "cell_type": "code",
   "execution_count": null,
   "metadata": {},
   "outputs": [],
   "source": []
  },
  {
   "cell_type": "code",
   "execution_count": null,
   "metadata": {},
   "outputs": [],
   "source": []
  }
 ],
 "metadata": {
  "kernelspec": {
   "display_name": "Python 3",
   "language": "python",
   "name": "python3"
  },
  "language_info": {
   "codemirror_mode": {
    "name": "ipython",
    "version": 3
   },
   "file_extension": ".py",
   "mimetype": "text/x-python",
   "name": "python",
   "nbconvert_exporter": "python",
   "pygments_lexer": "ipython3",
   "version": "3.8.5"
  }
 },
 "nbformat": 4,
 "nbformat_minor": 4
}
